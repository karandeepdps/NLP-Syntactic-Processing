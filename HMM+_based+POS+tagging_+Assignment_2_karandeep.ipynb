{
  "nbformat": 4,
  "nbformat_minor": 0,
  "metadata": {
    "kernelspec": {
      "display_name": "Python 3",
      "language": "python",
      "name": "python3"
    },
    "language_info": {
      "codemirror_mode": {
        "name": "ipython",
        "version": 3
      },
      "file_extension": ".py",
      "mimetype": "text/x-python",
      "name": "python",
      "nbconvert_exporter": "python",
      "pygments_lexer": "ipython3",
      "version": "3.6.5"
    },
    "colab": {
      "name": "HMM+_based+POS+tagging_+Assignment-2-karandeep.ipynb",
      "provenance": [],
      "collapsed_sections": []
    }
  },
  "cells": [
    {
      "cell_type": "markdown",
      "metadata": {
        "id": "KsR5fmQUuh57"
      },
      "source": [
        "## POS tagging using modified Viterbi"
      ]
    },
    {
      "cell_type": "markdown",
      "metadata": {
        "id": "dMWzHfGD6SE1"
      },
      "source": [
        "**Problem Statement**\n",
        "\n",
        "In this assignment, we need to modify the Viterbi algorithm to solve the problem of unknown words using at least two techniques. Though there could be multiple ways to solve this problem, we may use the following hints:\n",
        "\n",
        "* Which tag class do you think most unknown words belong to? Can you identify rules (e.g. based on morphological cues) that can be used to tag unknown words? You may define separate python functions to exploit these rules so that they work in tandem with the original Viterbi algorithm.\n",
        "\n",
        "* Why does the Viterbi algorithm choose a random tag on encountering an unknown word? Can you modify the Viterbi algorithm so that it considers only one of the transition or emission probabilities for unknown words?\n",
        "\n"
      ]
    },
    {
      "cell_type": "markdown",
      "metadata": {
        "id": "atzCZVbk7eMs"
      },
      "source": [
        "**Sample Test Sentences**\n",
        "\n",
        "Android is a mobile operating system developed by Google.\n",
        "\n",
        "Android has been the best-selling OS worldwide on smartphones since 2011 and on tablets since 2013.\n",
        "\n",
        "Google and Twitter made a deal in 2015 that gave Google access to Twitter's firehose.\n",
        "\n",
        "Twitter is an online news and social networking service on which users post and interact with messages known as tweets.\n",
        "\n",
        "Before entering politics, Donald Trump was a domineering businessman and a television personality.\n",
        "\n",
        "The 2018 FIFA World Cup is the 21st FIFA World Cup, an international football tournament contested once every four years.\n",
        "\n",
        "This is the first World Cup to be held in Eastern Europe and the 11th time that it has been held in Europe.\n",
        "\n",
        "Show me the cheapest round trips from Dallas to Atlanta\n",
        "\n",
        "I would like to see flights from Denver to Philadelphia.\n",
        "\n",
        "Show me the price of the flights leaving Atlanta at about 3 in the afternoon and arriving in San Francisco.\n",
        "\n",
        "NASA invited social media users to experience the launch of ICESAT-2 Satellite.\n",
        "\n",
        "\n"
      ]
    },
    {
      "cell_type": "markdown",
      "metadata": {
        "id": "7oAmo_d3uh58"
      },
      "source": [
        "### Data Preparation"
      ]
    },
    {
      "cell_type": "code",
      "metadata": {
        "id": "oTKe59l6uh5-"
      },
      "source": [
        "#Importing libraries\n",
        "import nltk"
      ],
      "execution_count": 1,
      "outputs": []
    },
    {
      "cell_type": "markdown",
      "metadata": {
        "id": "m5GATNKw7wYk"
      },
      "source": [
        "For this assignment, we'll use the Treebank dataset of NLTK with the 'universal' tagset. The Universal tagset of NLTK comprises only 12 coarse tag classes as follows: Verb, Noun, Pronouns, Adjectives, Adverbs, Adpositions, Conjunctions, Determiners, Cardinal Numbers, Particles, Other/ Foreign words, Punctuations."
      ]
    },
    {
      "cell_type": "code",
      "metadata": {
        "colab": {
          "base_uri": "https://localhost:8080/"
        },
        "id": "D7K1Erz5uh5_",
        "outputId": "b2ae0416-0f20-43ad-8d0e-19ab6073054d"
      },
      "source": [
        "# reading the Treebank tagged sentences\n",
        "nltk.download('universal_tagset')\n",
        "nltk.download('treebank')\n",
        "nltk_data = list(nltk.corpus.treebank.tagged_sents(tagset='universal'))"
      ],
      "execution_count": 2,
      "outputs": [
        {
          "output_type": "stream",
          "text": [
            "[nltk_data] Downloading package universal_tagset to /root/nltk_data...\n",
            "[nltk_data]   Unzipping taggers/universal_tagset.zip.\n",
            "[nltk_data] Downloading package treebank to /root/nltk_data...\n",
            "[nltk_data]   Unzipping corpora/treebank.zip.\n"
          ],
          "name": "stdout"
        }
      ]
    },
    {
      "cell_type": "code",
      "metadata": {
        "colab": {
          "base_uri": "https://localhost:8080/"
        },
        "id": "re0Rjm83uh6A",
        "outputId": "cf0f45f8-c120-4284-fa20-b611cae7ab76"
      },
      "source": [
        "print(nltk_data[:10])"
      ],
      "execution_count": 3,
      "outputs": [
        {
          "output_type": "stream",
          "text": [
            "[[('Pierre', 'NOUN'), ('Vinken', 'NOUN'), (',', '.'), ('61', 'NUM'), ('years', 'NOUN'), ('old', 'ADJ'), (',', '.'), ('will', 'VERB'), ('join', 'VERB'), ('the', 'DET'), ('board', 'NOUN'), ('as', 'ADP'), ('a', 'DET'), ('nonexecutive', 'ADJ'), ('director', 'NOUN'), ('Nov.', 'NOUN'), ('29', 'NUM'), ('.', '.')], [('Mr.', 'NOUN'), ('Vinken', 'NOUN'), ('is', 'VERB'), ('chairman', 'NOUN'), ('of', 'ADP'), ('Elsevier', 'NOUN'), ('N.V.', 'NOUN'), (',', '.'), ('the', 'DET'), ('Dutch', 'NOUN'), ('publishing', 'VERB'), ('group', 'NOUN'), ('.', '.')], [('Rudolph', 'NOUN'), ('Agnew', 'NOUN'), (',', '.'), ('55', 'NUM'), ('years', 'NOUN'), ('old', 'ADJ'), ('and', 'CONJ'), ('former', 'ADJ'), ('chairman', 'NOUN'), ('of', 'ADP'), ('Consolidated', 'NOUN'), ('Gold', 'NOUN'), ('Fields', 'NOUN'), ('PLC', 'NOUN'), (',', '.'), ('was', 'VERB'), ('named', 'VERB'), ('*-1', 'X'), ('a', 'DET'), ('nonexecutive', 'ADJ'), ('director', 'NOUN'), ('of', 'ADP'), ('this', 'DET'), ('British', 'ADJ'), ('industrial', 'ADJ'), ('conglomerate', 'NOUN'), ('.', '.')], [('A', 'DET'), ('form', 'NOUN'), ('of', 'ADP'), ('asbestos', 'NOUN'), ('once', 'ADV'), ('used', 'VERB'), ('*', 'X'), ('*', 'X'), ('to', 'PRT'), ('make', 'VERB'), ('Kent', 'NOUN'), ('cigarette', 'NOUN'), ('filters', 'NOUN'), ('has', 'VERB'), ('caused', 'VERB'), ('a', 'DET'), ('high', 'ADJ'), ('percentage', 'NOUN'), ('of', 'ADP'), ('cancer', 'NOUN'), ('deaths', 'NOUN'), ('among', 'ADP'), ('a', 'DET'), ('group', 'NOUN'), ('of', 'ADP'), ('workers', 'NOUN'), ('exposed', 'VERB'), ('*', 'X'), ('to', 'PRT'), ('it', 'PRON'), ('more', 'ADV'), ('than', 'ADP'), ('30', 'NUM'), ('years', 'NOUN'), ('ago', 'ADP'), (',', '.'), ('researchers', 'NOUN'), ('reported', 'VERB'), ('0', 'X'), ('*T*-1', 'X'), ('.', '.')], [('The', 'DET'), ('asbestos', 'NOUN'), ('fiber', 'NOUN'), (',', '.'), ('crocidolite', 'NOUN'), (',', '.'), ('is', 'VERB'), ('unusually', 'ADV'), ('resilient', 'ADJ'), ('once', 'ADP'), ('it', 'PRON'), ('enters', 'VERB'), ('the', 'DET'), ('lungs', 'NOUN'), (',', '.'), ('with', 'ADP'), ('even', 'ADV'), ('brief', 'ADJ'), ('exposures', 'NOUN'), ('to', 'PRT'), ('it', 'PRON'), ('causing', 'VERB'), ('symptoms', 'NOUN'), ('that', 'DET'), ('*T*-1', 'X'), ('show', 'VERB'), ('up', 'PRT'), ('decades', 'NOUN'), ('later', 'ADJ'), (',', '.'), ('researchers', 'NOUN'), ('said', 'VERB'), ('0', 'X'), ('*T*-2', 'X'), ('.', '.')], [('Lorillard', 'NOUN'), ('Inc.', 'NOUN'), (',', '.'), ('the', 'DET'), ('unit', 'NOUN'), ('of', 'ADP'), ('New', 'ADJ'), ('York-based', 'ADJ'), ('Loews', 'NOUN'), ('Corp.', 'NOUN'), ('that', 'DET'), ('*T*-2', 'X'), ('makes', 'VERB'), ('Kent', 'NOUN'), ('cigarettes', 'NOUN'), (',', '.'), ('stopped', 'VERB'), ('using', 'VERB'), ('crocidolite', 'NOUN'), ('in', 'ADP'), ('its', 'PRON'), ('Micronite', 'NOUN'), ('cigarette', 'NOUN'), ('filters', 'NOUN'), ('in', 'ADP'), ('1956', 'NUM'), ('.', '.')], [('Although', 'ADP'), ('preliminary', 'ADJ'), ('findings', 'NOUN'), ('were', 'VERB'), ('reported', 'VERB'), ('*-2', 'X'), ('more', 'ADV'), ('than', 'ADP'), ('a', 'DET'), ('year', 'NOUN'), ('ago', 'ADP'), (',', '.'), ('the', 'DET'), ('latest', 'ADJ'), ('results', 'NOUN'), ('appear', 'VERB'), ('in', 'ADP'), ('today', 'NOUN'), (\"'s\", 'PRT'), ('New', 'NOUN'), ('England', 'NOUN'), ('Journal', 'NOUN'), ('of', 'ADP'), ('Medicine', 'NOUN'), (',', '.'), ('a', 'DET'), ('forum', 'NOUN'), ('likely', 'ADJ'), ('*', 'X'), ('to', 'PRT'), ('bring', 'VERB'), ('new', 'ADJ'), ('attention', 'NOUN'), ('to', 'PRT'), ('the', 'DET'), ('problem', 'NOUN'), ('.', '.')], [('A', 'DET'), ('Lorillard', 'NOUN'), ('spokewoman', 'NOUN'), ('said', 'VERB'), (',', '.'), ('``', '.'), ('This', 'DET'), ('is', 'VERB'), ('an', 'DET'), ('old', 'ADJ'), ('story', 'NOUN'), ('.', '.')], [('We', 'PRON'), (\"'re\", 'VERB'), ('talking', 'VERB'), ('about', 'ADP'), ('years', 'NOUN'), ('ago', 'ADP'), ('before', 'ADP'), ('anyone', 'NOUN'), ('heard', 'VERB'), ('of', 'ADP'), ('asbestos', 'NOUN'), ('having', 'VERB'), ('any', 'DET'), ('questionable', 'ADJ'), ('properties', 'NOUN'), ('.', '.')], [('There', 'DET'), ('is', 'VERB'), ('no', 'DET'), ('asbestos', 'NOUN'), ('in', 'ADP'), ('our', 'PRON'), ('products', 'NOUN'), ('now', 'ADV'), ('.', '.'), (\"''\", '.')]]\n"
          ],
          "name": "stdout"
        }
      ]
    },
    {
      "cell_type": "code",
      "metadata": {
        "colab": {
          "base_uri": "https://localhost:8080/"
        },
        "id": "K8WgKNf5uh6B",
        "outputId": "4d5e1c52-708a-4871-dd86-4f222a9ec2ee"
      },
      "source": [
        "print(\"Total nltk sentences = {}\".format(len(nltk_data)))"
      ],
      "execution_count": 4,
      "outputs": [
        {
          "output_type": "stream",
          "text": [
            "Total nltk sentences = 3914\n"
          ],
          "name": "stdout"
        }
      ]
    },
    {
      "cell_type": "markdown",
      "metadata": {
        "id": "Px3nWksj75ek"
      },
      "source": [
        "You can split the Treebank dataset into train and validation sets. Please use a sample size of 95:5 for training: validation sets, i.e. keep the validation size small, else the algorithm will need a very high amount of runtime.\n"
      ]
    },
    {
      "cell_type": "code",
      "metadata": {
        "id": "lDx74Azruh6C"
      },
      "source": [
        "from sklearn.model_selection import train_test_split\n",
        "\n",
        "TRAIN_SIZE = 0.95\n",
        "TEST_SIZE = 1 - TRAIN_SIZE\n",
        "train_set, test_set = train_test_split(nltk_data,train_size=TRAIN_SIZE, test_size=TEST_SIZE)"
      ],
      "execution_count": 5,
      "outputs": []
    },
    {
      "cell_type": "code",
      "metadata": {
        "colab": {
          "base_uri": "https://localhost:8080/"
        },
        "id": "UsSeAJ4wuh6D",
        "outputId": "f4b65d25-1e9b-4467-dcce-ec089cfe22b0"
      },
      "source": [
        "print(\"Train sentences len {trl} Test set len {tel}\".format(trl=len(train_set),tel=len(test_set)))"
      ],
      "execution_count": 6,
      "outputs": [
        {
          "output_type": "stream",
          "text": [
            "Train sentences len 3718 Test set len 196\n"
          ],
          "name": "stdout"
        }
      ]
    },
    {
      "cell_type": "code",
      "metadata": {
        "colab": {
          "base_uri": "https://localhost:8080/"
        },
        "id": "ugJ1XLF6uh6E",
        "outputId": "49c1ea7b-7ed3-4d26-80b8-3bd57325b7b4"
      },
      "source": [
        "train_tag_words = [t for s in train_set for t in s]\n",
        "print((train_tag_words[0:10]))"
      ],
      "execution_count": 7,
      "outputs": [
        {
          "output_type": "stream",
          "text": [
            "[('Too', 'ADV'), ('much', 'ADJ'), ('money', 'NOUN'), ('*ICH*-1', 'X'), ('is', 'VERB'), ('at', 'ADP'), ('stake', 'NOUN'), ('for', 'ADP'), ('program', 'NOUN'), ('traders', 'NOUN')]\n"
          ],
          "name": "stdout"
        }
      ]
    },
    {
      "cell_type": "code",
      "metadata": {
        "colab": {
          "base_uri": "https://localhost:8080/"
        },
        "id": "q5okWFrzuh6G",
        "outputId": "4a74d91f-fd5d-4908-cddf-0fb8f7055765"
      },
      "source": [
        "test_tag_words = [t for s in test_set for t in s]\n",
        "print((test_tag_words[0:10]))"
      ],
      "execution_count": 8,
      "outputs": [
        {
          "output_type": "stream",
          "text": [
            "[('Many', 'ADJ'), ('felt', 'VERB'), ('0', 'X'), ('Hearst', 'NOUN'), ('kept', 'VERB'), ('the', 'DET'), ('paper', 'NOUN'), ('alive', 'ADJ'), ('as', 'ADP'), ('long', 'ADV')]\n"
          ],
          "name": "stdout"
        }
      ]
    },
    {
      "cell_type": "code",
      "metadata": {
        "colab": {
          "base_uri": "https://localhost:8080/"
        },
        "id": "xh-Tq6n-uh6H",
        "outputId": "89f094e8-08ea-4513-eea3-493cbbaf2276"
      },
      "source": [
        "print(\"Train train_tag_words len {trl} test_tag_words len {tel}\".format(trl=len(train_tag_words),tel=len(test_tag_words)))"
      ],
      "execution_count": 9,
      "outputs": [
        {
          "output_type": "stream",
          "text": [
            "Train train_tag_words len 95598 test_tag_words len 5078\n"
          ],
          "name": "stdout"
        }
      ]
    },
    {
      "cell_type": "code",
      "metadata": {
        "id": "Autd_Vb5uh6I",
        "colab": {
          "base_uri": "https://localhost:8080/"
        },
        "outputId": "135bcfe2-2a93-425c-df3d-e8096cce5603"
      },
      "source": [
        "train_tagged_tokens = [t[0] for t in train_tag_words]\n",
        "print(train_tagged_tokens[:10])"
      ],
      "execution_count": 10,
      "outputs": [
        {
          "output_type": "stream",
          "text": [
            "['Too', 'much', 'money', '*ICH*-1', 'is', 'at', 'stake', 'for', 'program', 'traders']\n"
          ],
          "name": "stdout"
        }
      ]
    },
    {
      "cell_type": "code",
      "metadata": {
        "colab": {
          "base_uri": "https://localhost:8080/"
        },
        "id": "ysY6N5i2ROIr",
        "outputId": "4f5143fc-2d96-48a8-e0a9-bc214e55f272"
      },
      "source": [
        "train_tagged_pos_tokens = sorted(list(set([t[1] for t in train_tag_words])))\n",
        "print(train_tagged_pos_tokens[:10])"
      ],
      "execution_count": 11,
      "outputs": [
        {
          "output_type": "stream",
          "text": [
            "['.', 'ADJ', 'ADP', 'ADV', 'CONJ', 'DET', 'NOUN', 'NUM', 'PRON', 'PRT']\n"
          ],
          "name": "stdout"
        }
      ]
    },
    {
      "cell_type": "code",
      "metadata": {
        "id": "Mv9rSaErROVR"
      },
      "source": [
        "training_vocabulary_set = set(train_tagged_tokens)"
      ],
      "execution_count": 12,
      "outputs": []
    },
    {
      "cell_type": "code",
      "metadata": {
        "id": "uyqnZoI8uh6Q"
      },
      "source": [
        "import numpy as np\n",
        "#Emission probability \n",
        "transition = len(train_tagged_pos_tokens)\n",
        "emission = len(training_vocabulary_set)\n",
        "wt = np.zeros((transition, emission))"
      ],
      "execution_count": 13,
      "outputs": []
    },
    {
      "cell_type": "code",
      "metadata": {
        "id": "nY-aNsZ2uh6R"
      },
      "source": [
        "#Emission Calculate\n",
        "\n",
        "def emf(word, tag, bag=train_tag_words):\n",
        "    tag_found = [pair for pair in bag if pair[1] == tag]\n",
        "    No_t_appears = len(tag_found)\n",
        "    w_given_tag_list = [pair[0] for pair in tag_found if pair[0]==word]\n",
        "    count_word_given_tag = len(w_given_tag_list)\n",
        "    \n",
        "    return (count_word_given_tag,No_t_appears )\n",
        "        "
      ],
      "execution_count": 14,
      "outputs": []
    },
    {
      "cell_type": "code",
      "metadata": {
        "colab": {
          "base_uri": "https://localhost:8080/"
        },
        "id": "uY9Jr_k2uh6R",
        "outputId": "f885f812-a990-43d2-8c01-0f54e4c497de"
      },
      "source": [
        "print(emf('acquisition','NOUN',bag=train_tag_words))"
      ],
      "execution_count": 15,
      "outputs": [
        {
          "output_type": "stream",
          "text": [
            "(13, 27366)\n"
          ],
          "name": "stdout"
        }
      ]
    },
    {
      "cell_type": "code",
      "metadata": {
        "id": "UEKkCQS5uh6T"
      },
      "source": [
        "def transition(t2, t1, bag=train_tag_words):\n",
        "    #P(t2|t1)= (No.of times t1 is followed by tag t2)/(No.of times t1 appears)\n",
        "\n",
        "    tags = [p[1] for p in bag]\n",
        "    t1_num = len([t for t in tags if t==t1])\n",
        "    \n",
        "    no_of_times_t1_followed_by_t2 = 0\n",
        "    for index in range(len(tags)-1):\n",
        "        if tags[index]==t1 and tags[index+1] == t2:\n",
        "            no_of_times_t1_followed_by_t2 += 1\n",
        "            \n",
        "    return (no_of_times_t1_followed_by_t2, t1_num)"
      ],
      "execution_count": 16,
      "outputs": []
    },
    {
      "cell_type": "code",
      "metadata": {
        "colab": {
          "base_uri": "https://localhost:8080/"
        },
        "id": "IKhqy_fBuh6U",
        "outputId": "6056d3fc-5389-4961-d3e2-a3d1a00b4bef"
      },
      "source": [
        "print(transition('ADJ', 'NOUN',bag=train_tag_words))"
      ],
      "execution_count": 17,
      "outputs": [
        {
          "output_type": "stream",
          "text": [
            "(324, 27366)\n"
          ],
          "name": "stdout"
        }
      ]
    },
    {
      "cell_type": "code",
      "metadata": {
        "id": "aDHKpuK6uh6V",
        "colab": {
          "base_uri": "https://localhost:8080/"
        },
        "outputId": "103c4f4e-09e6-4a11-c2a1-5d43e8da206a"
      },
      "source": [
        "tagsmatrix = np.zeros((len(train_tagged_pos_tokens), len(train_tagged_pos_tokens)), dtype='float32')\n",
        "for i, t1 in enumerate(list(train_tagged_pos_tokens)):\n",
        "    for j, t2 in enumerate(list(train_tagged_pos_tokens)): \n",
        "      print(t1,t2)\n",
        "      tagsmatrix[i, j] = transition(t2, t1,bag=train_tag_words)[0]/transition(t2, t1,bag=train_tag_words)[1]"
      ],
      "execution_count": 18,
      "outputs": [
        {
          "output_type": "stream",
          "text": [
            ". .\n",
            ". ADJ\n",
            ". ADP\n",
            ". ADV\n",
            ". CONJ\n",
            ". DET\n",
            ". NOUN\n",
            ". NUM\n",
            ". PRON\n",
            ". PRT\n",
            ". VERB\n",
            ". X\n",
            "ADJ .\n",
            "ADJ ADJ\n",
            "ADJ ADP\n",
            "ADJ ADV\n",
            "ADJ CONJ\n",
            "ADJ DET\n",
            "ADJ NOUN\n",
            "ADJ NUM\n",
            "ADJ PRON\n",
            "ADJ PRT\n",
            "ADJ VERB\n",
            "ADJ X\n",
            "ADP .\n",
            "ADP ADJ\n",
            "ADP ADP\n",
            "ADP ADV\n",
            "ADP CONJ\n",
            "ADP DET\n",
            "ADP NOUN\n",
            "ADP NUM\n",
            "ADP PRON\n",
            "ADP PRT\n",
            "ADP VERB\n",
            "ADP X\n",
            "ADV .\n",
            "ADV ADJ\n",
            "ADV ADP\n",
            "ADV ADV\n",
            "ADV CONJ\n",
            "ADV DET\n",
            "ADV NOUN\n",
            "ADV NUM\n",
            "ADV PRON\n",
            "ADV PRT\n",
            "ADV VERB\n",
            "ADV X\n",
            "CONJ .\n",
            "CONJ ADJ\n",
            "CONJ ADP\n",
            "CONJ ADV\n",
            "CONJ CONJ\n",
            "CONJ DET\n",
            "CONJ NOUN\n",
            "CONJ NUM\n",
            "CONJ PRON\n",
            "CONJ PRT\n",
            "CONJ VERB\n",
            "CONJ X\n",
            "DET .\n",
            "DET ADJ\n",
            "DET ADP\n",
            "DET ADV\n",
            "DET CONJ\n",
            "DET DET\n",
            "DET NOUN\n",
            "DET NUM\n",
            "DET PRON\n",
            "DET PRT\n",
            "DET VERB\n",
            "DET X\n",
            "NOUN .\n",
            "NOUN ADJ\n",
            "NOUN ADP\n",
            "NOUN ADV\n",
            "NOUN CONJ\n",
            "NOUN DET\n",
            "NOUN NOUN\n",
            "NOUN NUM\n",
            "NOUN PRON\n",
            "NOUN PRT\n",
            "NOUN VERB\n",
            "NOUN X\n",
            "NUM .\n",
            "NUM ADJ\n",
            "NUM ADP\n",
            "NUM ADV\n",
            "NUM CONJ\n",
            "NUM DET\n",
            "NUM NOUN\n",
            "NUM NUM\n",
            "NUM PRON\n",
            "NUM PRT\n",
            "NUM VERB\n",
            "NUM X\n",
            "PRON .\n",
            "PRON ADJ\n",
            "PRON ADP\n",
            "PRON ADV\n",
            "PRON CONJ\n",
            "PRON DET\n",
            "PRON NOUN\n",
            "PRON NUM\n",
            "PRON PRON\n",
            "PRON PRT\n",
            "PRON VERB\n",
            "PRON X\n",
            "PRT .\n",
            "PRT ADJ\n",
            "PRT ADP\n",
            "PRT ADV\n",
            "PRT CONJ\n",
            "PRT DET\n",
            "PRT NOUN\n",
            "PRT NUM\n",
            "PRT PRON\n",
            "PRT PRT\n",
            "PRT VERB\n",
            "PRT X\n",
            "VERB .\n",
            "VERB ADJ\n",
            "VERB ADP\n",
            "VERB ADV\n",
            "VERB CONJ\n",
            "VERB DET\n",
            "VERB NOUN\n",
            "VERB NUM\n",
            "VERB PRON\n",
            "VERB PRT\n",
            "VERB VERB\n",
            "VERB X\n",
            "X .\n",
            "X ADJ\n",
            "X ADP\n",
            "X ADV\n",
            "X CONJ\n",
            "X DET\n",
            "X NOUN\n",
            "X NUM\n",
            "X PRON\n",
            "X PRT\n",
            "X VERB\n",
            "X X\n"
          ],
          "name": "stdout"
        }
      ]
    },
    {
      "cell_type": "code",
      "metadata": {
        "id": "beexMI7-uh6W"
      },
      "source": [
        "import pandas as pd\n",
        "tags_dataframe = pd.DataFrame(tagsmatrix, columns = list(train_tagged_pos_tokens), index=list(train_tagged_pos_tokens))"
      ],
      "execution_count": 19,
      "outputs": []
    },
    {
      "cell_type": "code",
      "metadata": {
        "colab": {
          "base_uri": "https://localhost:8080/",
          "height": 390
        },
        "id": "TMwvJLwiuh6X",
        "outputId": "e465495c-6ced-49c0-91c9-8dd9d741ddb3"
      },
      "source": [
        "tags_dataframe.head(11)"
      ],
      "execution_count": 20,
      "outputs": [
        {
          "output_type": "execute_result",
          "data": {
            "text/html": [
              "<div>\n",
              "<style scoped>\n",
              "    .dataframe tbody tr th:only-of-type {\n",
              "        vertical-align: middle;\n",
              "    }\n",
              "\n",
              "    .dataframe tbody tr th {\n",
              "        vertical-align: top;\n",
              "    }\n",
              "\n",
              "    .dataframe thead th {\n",
              "        text-align: right;\n",
              "    }\n",
              "</style>\n",
              "<table border=\"1\" class=\"dataframe\">\n",
              "  <thead>\n",
              "    <tr style=\"text-align: right;\">\n",
              "      <th></th>\n",
              "      <th>.</th>\n",
              "      <th>ADJ</th>\n",
              "      <th>ADP</th>\n",
              "      <th>ADV</th>\n",
              "      <th>CONJ</th>\n",
              "      <th>DET</th>\n",
              "      <th>NOUN</th>\n",
              "      <th>NUM</th>\n",
              "      <th>PRON</th>\n",
              "      <th>PRT</th>\n",
              "      <th>VERB</th>\n",
              "      <th>X</th>\n",
              "    </tr>\n",
              "  </thead>\n",
              "  <tbody>\n",
              "    <tr>\n",
              "      <th>.</th>\n",
              "      <td>0.092977</td>\n",
              "      <td>0.044518</td>\n",
              "      <td>0.091455</td>\n",
              "      <td>0.052042</td>\n",
              "      <td>0.058581</td>\n",
              "      <td>0.172608</td>\n",
              "      <td>0.222501</td>\n",
              "      <td>0.081691</td>\n",
              "      <td>0.065120</td>\n",
              "      <td>0.002150</td>\n",
              "      <td>0.089305</td>\n",
              "      <td>0.026962</td>\n",
              "    </tr>\n",
              "    <tr>\n",
              "      <th>ADJ</th>\n",
              "      <td>0.065681</td>\n",
              "      <td>0.066831</td>\n",
              "      <td>0.077504</td>\n",
              "      <td>0.004926</td>\n",
              "      <td>0.016913</td>\n",
              "      <td>0.004762</td>\n",
              "      <td>0.698851</td>\n",
              "      <td>0.020854</td>\n",
              "      <td>0.000657</td>\n",
              "      <td>0.010509</td>\n",
              "      <td>0.011330</td>\n",
              "      <td>0.021182</td>\n",
              "    </tr>\n",
              "    <tr>\n",
              "      <th>ADP</th>\n",
              "      <td>0.039996</td>\n",
              "      <td>0.107838</td>\n",
              "      <td>0.017095</td>\n",
              "      <td>0.012902</td>\n",
              "      <td>0.000753</td>\n",
              "      <td>0.324159</td>\n",
              "      <td>0.319966</td>\n",
              "      <td>0.063004</td>\n",
              "      <td>0.069025</td>\n",
              "      <td>0.001505</td>\n",
              "      <td>0.008494</td>\n",
              "      <td>0.035265</td>\n",
              "    </tr>\n",
              "    <tr>\n",
              "      <th>ADV</th>\n",
              "      <td>0.134839</td>\n",
              "      <td>0.130189</td>\n",
              "      <td>0.117901</td>\n",
              "      <td>0.079044</td>\n",
              "      <td>0.007307</td>\n",
              "      <td>0.068748</td>\n",
              "      <td>0.032215</td>\n",
              "      <td>0.031219</td>\n",
              "      <td>0.015277</td>\n",
              "      <td>0.013617</td>\n",
              "      <td>0.346064</td>\n",
              "      <td>0.023580</td>\n",
              "    </tr>\n",
              "    <tr>\n",
              "      <th>CONJ</th>\n",
              "      <td>0.036490</td>\n",
              "      <td>0.116859</td>\n",
              "      <td>0.051732</td>\n",
              "      <td>0.054965</td>\n",
              "      <td>0.000462</td>\n",
              "      <td>0.117321</td>\n",
              "      <td>0.350577</td>\n",
              "      <td>0.041570</td>\n",
              "      <td>0.058661</td>\n",
              "      <td>0.004619</td>\n",
              "      <td>0.157968</td>\n",
              "      <td>0.008776</td>\n",
              "    </tr>\n",
              "    <tr>\n",
              "      <th>DET</th>\n",
              "      <td>0.017773</td>\n",
              "      <td>0.206021</td>\n",
              "      <td>0.009672</td>\n",
              "      <td>0.012937</td>\n",
              "      <td>0.000242</td>\n",
              "      <td>0.005683</td>\n",
              "      <td>0.636441</td>\n",
              "      <td>0.021642</td>\n",
              "      <td>0.003506</td>\n",
              "      <td>0.000121</td>\n",
              "      <td>0.040019</td>\n",
              "      <td>0.045944</td>\n",
              "    </tr>\n",
              "    <tr>\n",
              "      <th>NOUN</th>\n",
              "      <td>0.241541</td>\n",
              "      <td>0.011840</td>\n",
              "      <td>0.175144</td>\n",
              "      <td>0.017102</td>\n",
              "      <td>0.042936</td>\n",
              "      <td>0.013338</td>\n",
              "      <td>0.263868</td>\n",
              "      <td>0.009464</td>\n",
              "      <td>0.004604</td>\n",
              "      <td>0.043704</td>\n",
              "      <td>0.147080</td>\n",
              "      <td>0.029380</td>\n",
              "    </tr>\n",
              "    <tr>\n",
              "      <th>NUM</th>\n",
              "      <td>0.115021</td>\n",
              "      <td>0.032821</td>\n",
              "      <td>0.034004</td>\n",
              "      <td>0.002661</td>\n",
              "      <td>0.012714</td>\n",
              "      <td>0.003548</td>\n",
              "      <td>0.357776</td>\n",
              "      <td>0.183323</td>\n",
              "      <td>0.001478</td>\n",
              "      <td>0.027794</td>\n",
              "      <td>0.017445</td>\n",
              "      <td>0.211413</td>\n",
              "    </tr>\n",
              "    <tr>\n",
              "      <th>PRON</th>\n",
              "      <td>0.041186</td>\n",
              "      <td>0.072748</td>\n",
              "      <td>0.023095</td>\n",
              "      <td>0.035027</td>\n",
              "      <td>0.004619</td>\n",
              "      <td>0.009238</td>\n",
              "      <td>0.210547</td>\n",
              "      <td>0.006543</td>\n",
              "      <td>0.007698</td>\n",
              "      <td>0.012317</td>\n",
              "      <td>0.485758</td>\n",
              "      <td>0.091224</td>\n",
              "    </tr>\n",
              "    <tr>\n",
              "      <th>PRT</th>\n",
              "      <td>0.043250</td>\n",
              "      <td>0.083552</td>\n",
              "      <td>0.019332</td>\n",
              "      <td>0.009502</td>\n",
              "      <td>0.002294</td>\n",
              "      <td>0.101573</td>\n",
              "      <td>0.245085</td>\n",
              "      <td>0.058650</td>\n",
              "      <td>0.019004</td>\n",
              "      <td>0.001966</td>\n",
              "      <td>0.402359</td>\n",
              "      <td>0.013434</td>\n",
              "    </tr>\n",
              "    <tr>\n",
              "      <th>VERB</th>\n",
              "      <td>0.034523</td>\n",
              "      <td>0.065632</td>\n",
              "      <td>0.091389</td>\n",
              "      <td>0.081691</td>\n",
              "      <td>0.005586</td>\n",
              "      <td>0.134756</td>\n",
              "      <td>0.109620</td>\n",
              "      <td>0.023351</td>\n",
              "      <td>0.035531</td>\n",
              "      <td>0.031265</td>\n",
              "      <td>0.168348</td>\n",
              "      <td>0.218309</td>\n",
              "    </tr>\n",
              "  </tbody>\n",
              "</table>\n",
              "</div>"
            ],
            "text/plain": [
              "             .       ADJ       ADP  ...       PRT      VERB         X\n",
              ".     0.092977  0.044518  0.091455  ...  0.002150  0.089305  0.026962\n",
              "ADJ   0.065681  0.066831  0.077504  ...  0.010509  0.011330  0.021182\n",
              "ADP   0.039996  0.107838  0.017095  ...  0.001505  0.008494  0.035265\n",
              "ADV   0.134839  0.130189  0.117901  ...  0.013617  0.346064  0.023580\n",
              "CONJ  0.036490  0.116859  0.051732  ...  0.004619  0.157968  0.008776\n",
              "DET   0.017773  0.206021  0.009672  ...  0.000121  0.040019  0.045944\n",
              "NOUN  0.241541  0.011840  0.175144  ...  0.043704  0.147080  0.029380\n",
              "NUM   0.115021  0.032821  0.034004  ...  0.027794  0.017445  0.211413\n",
              "PRON  0.041186  0.072748  0.023095  ...  0.012317  0.485758  0.091224\n",
              "PRT   0.043250  0.083552  0.019332  ...  0.001966  0.402359  0.013434\n",
              "VERB  0.034523  0.065632  0.091389  ...  0.031265  0.168348  0.218309\n",
              "\n",
              "[11 rows x 12 columns]"
            ]
          },
          "metadata": {
            "tags": []
          },
          "execution_count": 20
        }
      ]
    },
    {
      "cell_type": "code",
      "metadata": {
        "colab": {
          "base_uri": "https://localhost:8080/",
          "height": 592
        },
        "id": "38XIkhA8Tm4P",
        "outputId": "b8e09e3b-00d4-4c9a-e494-cb91f7e2654d"
      },
      "source": [
        "import matplotlib.pyplot as plt\n",
        "import seaborn as sns\n",
        "\n",
        "plt.figure(figsize=(15,10))\n",
        "sns.heatmap(tags_dataframe, annot=True)\n",
        "plt.show()"
      ],
      "execution_count": 21,
      "outputs": [
        {
          "output_type": "display_data",
          "data": {
            "image/png": "[encoded data removed]",
            "text/plain": [
              "<Figure size 1080x720 with 2 Axes>"
            ]
          },
          "metadata": {
            "tags": [],
            "needs_background": "light"
          }
        }
      ]
    },
    {
      "cell_type": "markdown",
      "metadata": {
        "id": "c1A59Pgauh6X"
      },
      "source": [
        "### Build the vanilla Viterbi based POS tagger"
      ]
    },
    {
      "cell_type": "code",
      "metadata": {
        "id": "dA0VmUSVuh6Z"
      },
      "source": [
        "#The Viterbi algorithm is a dynamic programming algorithm for obtaining the maximum a \n",
        "#posteriori probability estimate of the most likely sequence of hidden states—called \n",
        "#the Viterbi path—that results in a sequence of observed events, especially in the \n",
        "#context of Markov information sources and hidden Markov models (HMM)."
      ],
      "execution_count": 22,
      "outputs": []
    },
    {
      "cell_type": "code",
      "metadata": {
        "colab": {
          "base_uri": "https://localhost:8080/"
        },
        "id": "uC5wng2Uuh6a",
        "outputId": "8cc4a3f5-bdb0-4caa-c553-2819eb2af998"
      },
      "source": [
        "train_tag_words[:10]"
      ],
      "execution_count": 23,
      "outputs": [
        {
          "output_type": "execute_result",
          "data": {
            "text/plain": [
              "[('Too', 'ADV'),\n",
              " ('much', 'ADJ'),\n",
              " ('money', 'NOUN'),\n",
              " ('*ICH*-1', 'X'),\n",
              " ('is', 'VERB'),\n",
              " ('at', 'ADP'),\n",
              " ('stake', 'NOUN'),\n",
              " ('for', 'ADP'),\n",
              " ('program', 'NOUN'),\n",
              " ('traders', 'NOUN')]"
            ]
          },
          "metadata": {
            "tags": []
          },
          "execution_count": 23
        }
      ]
    },
    {
      "cell_type": "markdown",
      "metadata": {
        "id": "SYj2kEoG84jD"
      },
      "source": [
        "#GOAL 1\n",
        "\n",
        "Write the vanilla Viterbi algorithm for assigning POS tags (i.e. without dealing with unknown words) \n"
      ]
    },
    {
      "cell_type": "code",
      "metadata": {
        "id": "sgEA7qpvuh6b"
      },
      "source": [
        "def viterbi_heuristic(words, bag):\n",
        "    states = []\n",
        "    tags = sorted(list(set([pair[1] for pair in bag])))\n",
        "    \n",
        "    for index, word in enumerate(words):\n",
        "        p = []\n",
        "        \n",
        "        for tag in tags:\n",
        "            if index == 0: \n",
        "                transition_p = tags_dataframe.loc['.', tag]                 \n",
        "            else:\n",
        "                transition_p = tags_dataframe.loc[states[-1], tag]\n",
        "                \n",
        "            if emf(words[index], tag)[1] == 0:\n",
        "                emission_p = emf(words[index], tag)[0]/(emf(words[index], tag)[1] + 1)\n",
        "            else:\n",
        "                emission_p = emf(words[index], tag)[0]/emf(words[index], tag)[1]\n",
        "            state_probability = emission_p * transition_p    \n",
        "            p.append(state_probability)\n",
        "            \n",
        "        probmax = max(p)\n",
        "        state_max = tags[p.index(probmax)]\n",
        "        states.append(state_max)\n",
        "        \n",
        "    return list(zip(words, states))\n",
        "    "
      ],
      "execution_count": 25,
      "outputs": []
    },
    {
      "cell_type": "code",
      "metadata": {
        "id": "mP2utxjDuh6c"
      },
      "source": [
        "import random\n",
        "# choose 5 random sents\n",
        "rndom = [random.randint(1, len(test_set)) for x in range(5)]\n",
        "\n",
        "# list of sents\n",
        "test_sents = [test_set[i] for i in rndom]\n",
        "\n",
        "# list of tagged words\n",
        "test_tagged_words = [tup for sent in test_sents for tup in sent]\n",
        "\n",
        "# list of untagged words\n",
        "test_untagged_words = [tup[0] for sent in test_sents for tup in sent]"
      ],
      "execution_count": 26,
      "outputs": []
    },
    {
      "cell_type": "code",
      "metadata": {
        "id": "rfL2je2muh6c"
      },
      "source": [
        "tagged_seq = viterbi_heuristic(test_untagged_words,bag=train_tag_words)"
      ],
      "execution_count": 27,
      "outputs": []
    },
    {
      "cell_type": "code",
      "metadata": {
        "colab": {
          "base_uri": "https://localhost:8080/"
        },
        "id": "jDDTSzgWuh6d",
        "outputId": "9d0dc77c-5c15-4937-ef51-119fae32df98"
      },
      "source": [
        "# accuracy\n",
        "vanilla_pos = [i for i, j in zip(tagged_seq, test_tagged_words) if i == j] \n",
        "vanilla_viterbi_accuracy = len(vanilla_pos)/len(tagged_seq) * 100\n",
        "print('Vanilla Viterbi Algorithm Accuracy: ', vanilla_viterbi_accuracy)"
      ],
      "execution_count": 28,
      "outputs": [
        {
          "output_type": "stream",
          "text": [
            "Vanilla Viterbi Algorithm Accuracy:  92.5925925925926\n"
          ],
          "name": "stdout"
        }
      ]
    },
    {
      "cell_type": "code",
      "metadata": {
        "id": "rC-0InERuh6e"
      },
      "source": [
        "incorrect_tagged_cases_vanilla_viterbi_accuracy = [j for i, j in enumerate(zip(tagged_seq, test_tagged_words)) if j[0]!=j[1]]"
      ],
      "execution_count": 29,
      "outputs": []
    },
    {
      "cell_type": "code",
      "metadata": {
        "id": "7A1_DD5buh6e",
        "colab": {
          "base_uri": "https://localhost:8080/"
        },
        "outputId": "d5bc71b7-4922-4dde-f4ca-a9ea18a7c404"
      },
      "source": [
        "incorrect_tagged_cases_vanilla_viterbi_accuracy"
      ],
      "execution_count": 30,
      "outputs": [
        {
          "output_type": "execute_result",
          "data": {
            "text/plain": [
              "[(('fielded', '.'), ('fielded', 'VERB')),\n",
              " (('dominant', '.'), ('dominant', 'ADJ')),\n",
              " (('Yasuda', '.'), ('Yasuda', 'NOUN')),\n",
              " (('surge', 'NOUN'), ('surge', 'VERB')),\n",
              " (('Gasoline', '.'), ('Gasoline', 'NOUN')),\n",
              " (('sell-off', '.'), ('sell-off', 'NOUN')),\n",
              " (('Risks', '.'), ('Risks', 'NOUN')),\n",
              " (('erodes', '.'), ('erodes', 'VERB'))]"
            ]
          },
          "metadata": {
            "tags": []
          },
          "execution_count": 30
        }
      ]
    },
    {
      "cell_type": "markdown",
      "metadata": {
        "id": "uPIvYCVn9lTL"
      },
      "source": [
        "####This is due to emission probability 0 as if it hits unknown word it assigns first tag in list of tags\n",
        "####E(w|t)= (No.of times w has been tagged as t)/(No.of times t appears)\n",
        "\n",
        "\n",
        "---\n",
        "\n"
      ]
    },
    {
      "cell_type": "markdown",
      "metadata": {
        "id": "ubpYB_mw9p-Q"
      },
      "source": [
        "#GOAL 2 Strategy: 1\n",
        "\n",
        "Solve the problem of unknown words using at least two techniques. \n",
        "\n",
        "Strategy: 1 Use transition probability when emission is zero"
      ]
    },
    {
      "cell_type": "code",
      "metadata": {
        "id": "UZpsvXCvuh6h"
      },
      "source": [
        "def viterbi_heuristic_1(words, bag):\n",
        "    states = []\n",
        "    tags = sorted(list(set([pair[1] for pair in bag])))\n",
        "    Vocab = [pair[0] for pair in bag]\n",
        "    \n",
        "    for index, word in enumerate(words):\n",
        "        p = []\n",
        "        \n",
        "        for tag in tags:\n",
        "            if index == 0: \n",
        "                transition_p = tags_dataframe.loc['.', tag]                 \n",
        "            else:\n",
        "                transition_p = tags_dataframe.loc[states[-1], tag]\n",
        "                \n",
        "            if emf(words[index], tag)[1] == 0:\n",
        "                emission_p = emf(words[index], tag)[0]/(emf(words[index], tag)[1] + 1)\n",
        "            else:\n",
        "                emission_p = emf(words[index], tag)[0]/emf(words[index], tag)[1]\n",
        "\n",
        "            if word not in Vocab:\n",
        "              state_probability = transition_p\n",
        "            else:\n",
        "              state_probability = emission_p * transition_p    \n",
        "              \n",
        "            p.append(state_probability)\n",
        "            \n",
        "        probmax = max(p)\n",
        "        state_max = tags[p.index(probmax)]\n",
        "        states.append(state_max)\n",
        "        \n",
        "    return list(zip(words, states))\n",
        "    "
      ],
      "execution_count": 31,
      "outputs": []
    },
    {
      "cell_type": "code",
      "metadata": {
        "id": "pvlxbw7uedq5"
      },
      "source": [
        "tagged_seq = viterbi_heuristic_1(test_untagged_words,bag=train_tag_words)"
      ],
      "execution_count": 32,
      "outputs": []
    },
    {
      "cell_type": "code",
      "metadata": {
        "colab": {
          "base_uri": "https://localhost:8080/"
        },
        "id": "a-Iol_TueeEn",
        "outputId": "e3504ff4-9469-47d3-917a-efa3e4277d67"
      },
      "source": [
        "# accuracy\n",
        "vanilla_pos = [i for i, j in zip(tagged_seq, test_tagged_words) if i == j] \n",
        "viterbi_accuracy_transition_when_emission_zero = len(vanilla_pos)/len(tagged_seq) * 100\n",
        "print('Viterbi viterbi_accuracy_transition_when_emission_zero Accuracy: ', viterbi_accuracy_transition_when_emission_zero)"
      ],
      "execution_count": 33,
      "outputs": [
        {
          "output_type": "stream",
          "text": [
            "Viterbi viterbi_accuracy_transition_when_emission_zero Accuracy:  94.44444444444444\n"
          ],
          "name": "stdout"
        }
      ]
    },
    {
      "cell_type": "code",
      "metadata": {
        "id": "9rgRHaQsuh6h"
      },
      "source": [
        "incorrect_tagged_cases_viterbi_accuracy_transition_when_emission_zero = [j for i, j in enumerate(zip(tagged_seq, test_tagged_words)) if j[0]!=j[1]]"
      ],
      "execution_count": 34,
      "outputs": []
    },
    {
      "cell_type": "code",
      "metadata": {
        "colab": {
          "base_uri": "https://localhost:8080/"
        },
        "id": "X_lfBsWPhD60",
        "outputId": "f18f1fc7-07f7-412a-ffae-f9d7dab01aba"
      },
      "source": [
        "incorrect_tagged_cases_viterbi_accuracy_transition_when_emission_zero"
      ],
      "execution_count": 35,
      "outputs": [
        {
          "output_type": "execute_result",
          "data": {
            "text/plain": [
              "[(('fielded', 'NOUN'), ('fielded', 'VERB')),\n",
              " (('dominant', 'VERB'), ('dominant', 'ADJ')),\n",
              " (('Yasuda', 'X'), ('Yasuda', 'NOUN')),\n",
              " (('surge', 'NOUN'), ('surge', 'VERB')),\n",
              " (('that', 'ADP'), ('that', 'DET')),\n",
              " (('erodes', 'NOUN'), ('erodes', 'VERB'))]"
            ]
          },
          "metadata": {
            "tags": []
          },
          "execution_count": 35
        }
      ]
    },
    {
      "cell_type": "markdown",
      "metadata": {
        "id": "Jj2RQ7xLL_Mw"
      },
      "source": [
        "#**Observations :**\n",
        "\n",
        "1. Accuracy increased from 92.5925925925926 to 94.44444444444444.\n",
        "2. Words which are correct now:\n",
        "\n",
        "Gasoline, sell-off, Risks are now correctely predicted.\n"
      ]
    },
    {
      "cell_type": "markdown",
      "metadata": {
        "id": "pmI-qBvKslNl"
      },
      "source": [
        "#GOAL 2 Strategy: 2\n",
        "Solve the problem of unknown words using at least two techniques. \n",
        "\n",
        "Strategy: 2 Use most common tag "
      ]
    },
    {
      "cell_type": "code",
      "metadata": {
        "id": "K2Up1VQIs6__"
      },
      "source": [
        "def most_common(lst):\n",
        "    return max(set(lst), key=lst.count)"
      ],
      "execution_count": 42,
      "outputs": []
    },
    {
      "cell_type": "code",
      "metadata": {
        "colab": {
          "base_uri": "https://localhost:8080/",
          "height": 35
        },
        "id": "xg5Fa7qk_UM4",
        "outputId": "200a2fbd-3c07-4c66-b4df-3ab731819082"
      },
      "source": [
        "most_common(sorted(list(([pair[1] for pair in train_tag_words]))))"
      ],
      "execution_count": 43,
      "outputs": [
        {
          "output_type": "execute_result",
          "data": {
            "application/vnd.google.colaboratory.intrinsic+json": {
              "type": "string"
            },
            "text/plain": [
              "'NOUN'"
            ]
          },
          "metadata": {
            "tags": []
          },
          "execution_count": 43
        }
      ]
    },
    {
      "cell_type": "code",
      "metadata": {
        "id": "jY3ryD-Gsf4e"
      },
      "source": [
        "def viterbi_heuristic_2(words, bag):\n",
        "    states = []\n",
        "    tags = sorted(list(set([pair[1] for pair in bag])))\n",
        "    most_common_tag = most_common(tags)\n",
        "    Vocab = [pair[0] for pair in bag]\n",
        "    \n",
        "    for index, word in enumerate(words):\n",
        "        p = []\n",
        "\n",
        "       \n",
        "        for tag in tags:\n",
        "            if index == 0: \n",
        "                transition_p = tags_dataframe.loc['.', tag]                 \n",
        "            else:\n",
        "                transition_p = tags_dataframe.loc[states[-1], tag]\n",
        "                \n",
        "            if emf(words[index], tag)[1] == 0:\n",
        "                emission_p = emf(words[index], tag)[0]/(emf(words[index], tag)[1] + 1)\n",
        "            else:\n",
        "                emission_p = emf(words[index], tag)[0]/emf(words[index], tag)[1]\n",
        "\n",
        "            \n",
        "            state_probability = emission_p * transition_p    \n",
        "            p.append(state_probability)\n",
        "            \n",
        "        pmax = max(p)\n",
        "        if pmax == 0:\n",
        "          state_max = 'NOUN'\n",
        "        else :\n",
        "          state_max = tags[p.index(pmax)]\n",
        "        states.append(state_max)\n",
        "        \n",
        "    return list(zip(words, states))\n",
        "    "
      ],
      "execution_count": 44,
      "outputs": []
    },
    {
      "cell_type": "code",
      "metadata": {
        "id": "u5xB1I9itH98"
      },
      "source": [
        "tagged_seq = viterbi_heuristic_2(test_untagged_words,bag=train_tag_words)"
      ],
      "execution_count": 45,
      "outputs": []
    },
    {
      "cell_type": "code",
      "metadata": {
        "colab": {
          "base_uri": "https://localhost:8080/"
        },
        "id": "iOSxecCitIN5",
        "outputId": "4f1870c6-ea4f-4356-ac8e-74e4775154d1"
      },
      "source": [
        "# accuracy\n",
        "vanilla_pos = [i for i, j in zip(tagged_seq, test_tagged_words) if i == j] \n",
        "viterbi_accuracy_most_common = len(vanilla_pos)/len(tagged_seq) * 100\n",
        "print('viterbi_accuracy_most_common Accuracy: ', viterbi_accuracy_most_common)"
      ],
      "execution_count": 46,
      "outputs": [
        {
          "output_type": "stream",
          "text": [
            "viterbi_accuracy_most_common Accuracy:  95.37037037037037\n"
          ],
          "name": "stdout"
        }
      ]
    },
    {
      "cell_type": "code",
      "metadata": {
        "colab": {
          "base_uri": "https://localhost:8080/"
        },
        "id": "XTGGg8FNHuhr",
        "outputId": "6113f702-a83c-43ec-db69-823ea1721c88"
      },
      "source": [
        "incorrect_tagged_cases_viterbi_accuracy_most_common = [j for i, j in enumerate(zip(tagged_seq, test_tagged_words)) if j[0]!=j[1]]\n",
        "incorrect_tagged_cases_viterbi_accuracy_most_common"
      ],
      "execution_count": 47,
      "outputs": [
        {
          "output_type": "execute_result",
          "data": {
            "text/plain": [
              "[(('fielded', 'NOUN'), ('fielded', 'VERB')),\n",
              " (('dominant', 'NOUN'), ('dominant', 'ADJ')),\n",
              " (('surge', 'NOUN'), ('surge', 'VERB')),\n",
              " (('that', 'ADP'), ('that', 'DET')),\n",
              " (('erodes', 'NOUN'), ('erodes', 'VERB'))]"
            ]
          },
          "metadata": {
            "tags": []
          },
          "execution_count": 47
        }
      ]
    },
    {
      "cell_type": "markdown",
      "metadata": {
        "id": "ZMQypVut_wgW"
      },
      "source": [
        "#**Observations :**\n",
        "\n",
        "1. Accuracy increased from 94.44444444444444 to 95.37037037037037.\n",
        "2. Words which are correct now:\n",
        "\n",
        "Yasuda is now correctely predicted.\n",
        "\n"
      ]
    },
    {
      "cell_type": "markdown",
      "metadata": {
        "id": "zslxwkPzhw08"
      },
      "source": [
        "#GOAL 2 Strategy: 3\n",
        "Solve the problem of unknown words using at least two techniques. \n",
        "\n",
        "Strategy: 3 Using Rule Base"
      ]
    },
    {
      "cell_type": "code",
      "metadata": {
        "id": "SCVwWYN3zXth"
      },
      "source": [
        "def viterbi_heuristic_3(words, bag):\n",
        "    states = []\n",
        "    tags = sorted(list(set([pair[1] for pair in bag])))\n",
        "    most_common_tag = most_common(tags)\n",
        "    Vocab = [pair[0] for pair in bag]\n",
        "    \n",
        "    for index, word in enumerate(words):\n",
        "        p = []\n",
        "\n",
        "        if word not in Vocab:\n",
        "              tag = 'NOUN'\n",
        "              if word.endswith('ous'):\n",
        "                tag = 'ADJ'\n",
        "              elif word.endswith('ly'):\n",
        "                tag = 'ADJ'\n",
        "              elif word.endswith('ould'):\n",
        "                tag = 'X'\n",
        "              elif word.endswith(('The','the','A','a','An','an')):\n",
        "                tag = 'DET'\n",
        "              elif word.endswith('able'):\n",
        "                tag = 'ADJ'\n",
        "              elif word.endswith('ing'):\n",
        "                tag = 'VERB'\n",
        "              elif word[-1].isdigit():\n",
        "                tag = 'NUM'\n",
        "              elif word.endswith('ed'):\n",
        "                tag = 'VERB'\n",
        "              elif word.endswith('es'):\n",
        "                tag = 'VERB'\n",
        "              elif word.endswith('s'):\n",
        "                tag = 'NOUN'\n",
        "              states.append(tag)\n",
        "        \n",
        "        else:\n",
        "          for tag in tags:\n",
        "              if index == 0: \n",
        "                  transition_p = tags_dataframe.loc['.', tag]                 \n",
        "              else:\n",
        "                  transition_p = tags_dataframe.loc[states[-1], tag]\n",
        "                  \n",
        "              if emf(words[index], tag)[1] == 0:\n",
        "                  emission_p = emf(words[index], tag)[0]/(emf(words[index], tag)[1] + 1)\n",
        "              else:\n",
        "                  emission_p = emf(words[index], tag)[0]/emf(words[index], tag)[1]\n",
        "\n",
        "      \n",
        "              state_probability = emission_p * transition_p    \n",
        "                \n",
        "              p.append(state_probability)\n",
        "              \n",
        "          probmax = max(p)\n",
        "          state_max = tags[p.index(probmax)]\n",
        "          states.append(state_max)\n",
        "        \n",
        "    return list(zip(words, states))\n",
        "    "
      ],
      "execution_count": 48,
      "outputs": []
    },
    {
      "cell_type": "code",
      "metadata": {
        "colab": {
          "base_uri": "https://localhost:8080/"
        },
        "id": "o-SQrpzOzXwW",
        "outputId": "0e89d502-7004-4d0f-e35b-00b3f33f4b82"
      },
      "source": [
        "tagged_seq = viterbi_heuristic_3(test_untagged_words,bag=train_tag_words)\n",
        "# accuracy\n",
        "vanilla_pos = [i for i, j in zip(tagged_seq, test_tagged_words) if i == j] \n",
        "viterbi_accuracy_rule_based = len(vanilla_pos)/len(tagged_seq) * 100\n",
        "print('viterbi_accuracy_rule_based Algorithm 3 Accuracy: ', viterbi_accuracy_rule_based)"
      ],
      "execution_count": 49,
      "outputs": [
        {
          "output_type": "stream",
          "text": [
            "viterbi_accuracy_rule_based Algorithm 3 Accuracy:  96.29629629629629\n"
          ],
          "name": "stdout"
        }
      ]
    },
    {
      "cell_type": "code",
      "metadata": {
        "id": "iJrZUerW2dqd"
      },
      "source": [
        "incorrect_tagged_cases_viterbi_accuracy_rule_based = [j for i, j in enumerate(zip(tagged_seq, test_tagged_words)) if j[0]!=j[1]]"
      ],
      "execution_count": 50,
      "outputs": []
    },
    {
      "cell_type": "code",
      "metadata": {
        "colab": {
          "base_uri": "https://localhost:8080/"
        },
        "id": "18XyZlO62duD",
        "outputId": "0efcf104-63a6-4af5-cd12-67e7fe9e222a"
      },
      "source": [
        "incorrect_tagged_cases_viterbi_accuracy_rule_based"
      ],
      "execution_count": 51,
      "outputs": [
        {
          "output_type": "execute_result",
          "data": {
            "text/plain": [
              "[(('dominant', 'NOUN'), ('dominant', 'ADJ')),\n",
              " (('Yasuda', 'DET'), ('Yasuda', 'NOUN')),\n",
              " (('surge', 'NOUN'), ('surge', 'VERB')),\n",
              " (('that', 'ADP'), ('that', 'DET'))]"
            ]
          },
          "metadata": {
            "tags": []
          },
          "execution_count": 51
        }
      ]
    },
    {
      "cell_type": "markdown",
      "metadata": {
        "id": "7NF_4sZzAd5d"
      },
      "source": [
        "#**Observations :**\n",
        "\n",
        "1. Accuracy increased from 95.37037037037037 to 96.29629629629629 .\n",
        "2. Words which are correct now:\n",
        "\n",
        "fielded, erodes is now correctely predicted.\n"
      ]
    },
    {
      "cell_type": "markdown",
      "metadata": {
        "id": "MK2Mpl2WAiKf"
      },
      "source": [
        "#GOAL 3\n",
        "\n",
        "Compare the tagging accuracy after making these modifications with the vanilla Viterbi algorithm."
      ]
    },
    {
      "cell_type": "code",
      "metadata": {
        "id": "qmb2EtjCuh6j",
        "colab": {
          "base_uri": "https://localhost:8080/",
          "height": 204
        },
        "outputId": "6aecda8e-6311-4e0f-a138-d3f21b10a75e"
      },
      "source": [
        "acc_data = [['Vanilla Viterbi', vanilla_viterbi_accuracy], \n",
        "                  ['Viterbi accuracy transition_when_emission_zero', viterbi_accuracy_transition_when_emission_zero], \n",
        "                  ['Viterbi accuracy most_common', viterbi_accuracy_most_common ],\n",
        "                  ['Viterbi accuracy rule_based', viterbi_accuracy_rule_based ],]\n",
        "\n",
        "acc_data_df = pd.DataFrame(acc_data, columns = ['Algorithm', 'Accuracy'])\n",
        "acc_data_df.set_index('Algorithm', drop = True, inplace = True)\n",
        "acc_data_df"
      ],
      "execution_count": 60,
      "outputs": [
        {
          "output_type": "execute_result",
          "data": {
            "text/html": [
              "<div>\n",
              "<style scoped>\n",
              "    .dataframe tbody tr th:only-of-type {\n",
              "        vertical-align: middle;\n",
              "    }\n",
              "\n",
              "    .dataframe tbody tr th {\n",
              "        vertical-align: top;\n",
              "    }\n",
              "\n",
              "    .dataframe thead th {\n",
              "        text-align: right;\n",
              "    }\n",
              "</style>\n",
              "<table border=\"1\" class=\"dataframe\">\n",
              "  <thead>\n",
              "    <tr style=\"text-align: right;\">\n",
              "      <th></th>\n",
              "      <th>Accuracy</th>\n",
              "    </tr>\n",
              "    <tr>\n",
              "      <th>Algorithm</th>\n",
              "      <th></th>\n",
              "    </tr>\n",
              "  </thead>\n",
              "  <tbody>\n",
              "    <tr>\n",
              "      <th>Vanilla Viterbi</th>\n",
              "      <td>92.592593</td>\n",
              "    </tr>\n",
              "    <tr>\n",
              "      <th>Viterbi accuracy transition_when_emission_zero</th>\n",
              "      <td>94.444444</td>\n",
              "    </tr>\n",
              "    <tr>\n",
              "      <th>Viterbi accuracy most_common</th>\n",
              "      <td>95.370370</td>\n",
              "    </tr>\n",
              "    <tr>\n",
              "      <th>Viterbi accuracy rule_based</th>\n",
              "      <td>96.296296</td>\n",
              "    </tr>\n",
              "  </tbody>\n",
              "</table>\n",
              "</div>"
            ],
            "text/plain": [
              "                                                 Accuracy\n",
              "Algorithm                                                \n",
              "Vanilla Viterbi                                 92.592593\n",
              "Viterbi accuracy transition_when_emission_zero  94.444444\n",
              "Viterbi accuracy most_common                    95.370370\n",
              "Viterbi accuracy rule_based                     96.296296"
            ]
          },
          "metadata": {
            "tags": []
          },
          "execution_count": 60
        }
      ]
    },
    {
      "cell_type": "code",
      "metadata": {
        "colab": {
          "base_uri": "https://localhost:8080/",
          "height": 527
        },
        "id": "IVDgZUeSF_8p",
        "outputId": "82eccfb4-14eb-4431-99ca-1635c4b91a8d"
      },
      "source": [
        "acc_data_df.plot.line(rot = 90, legend = True)"
      ],
      "execution_count": 62,
      "outputs": [
        {
          "output_type": "execute_result",
          "data": {
            "text/plain": [
              "<matplotlib.axes._subplots.AxesSubplot at 0x7f3aa179aed0>"
            ]
          },
          "metadata": {
            "tags": []
          },
          "execution_count": 62
        },
        {
          "output_type": "display_data",
          "data": {
            "image/png": "[encoded data removed]",
            "text/plain": [
              "<Figure size 432x288 with 1 Axes>"
            ]
          },
          "metadata": {
            "tags": [],
            "needs_background": "light"
          }
        }
      ]
    },
    {
      "cell_type": "markdown",
      "metadata": {
        "id": "IGypojYdElRr"
      },
      "source": [
        "#GOAL 4\n",
        "\n",
        "Compare the tagging accuracy after making these modifications with the vanilla Viterbi algorithm."
      ]
    },
    {
      "cell_type": "markdown",
      "metadata": {
        "id": "fEhhhQMGuh6n"
      },
      "source": [
        "### List down cases which were incorrectly tagged by original POS tagger and got corrected by your modifications"
      ]
    },
    {
      "cell_type": "code",
      "metadata": {
        "id": "KRJgwGZLuh6o"
      },
      "source": [
        "List down at least three cases from the sample test file (i.e. unknown word-tag pairs) which were incorrectly tagged by the original Viterbi POS tagger and got corrected after your modifications.\n"
      ],
      "execution_count": null,
      "outputs": []
    },
    {
      "cell_type": "code",
      "metadata": {
        "id": "CYKynsrKuh6o"
      },
      "source": [
        "from nltk.tokenize import word_tokenize\n"
      ],
      "execution_count": 63,
      "outputs": []
    },
    {
      "cell_type": "code",
      "metadata": {
        "id": "8aktpJDfuh6o",
        "colab": {
          "base_uri": "https://localhost:8080/"
        },
        "outputId": "dc020abc-a0b6-4246-b727-c199152f3c64"
      },
      "source": [
        "nltk.download('punkt')\n",
        "sentense_test_1 = \"Android is a mobile operating system developed by Google.\"\n",
        "words = word_tokenize(sentense_test_1)\n",
        "tagged_seq = viterbi_heuristic(words,bag=train_tag_words)\n",
        "print(tagged_seq)"
      ],
      "execution_count": 69,
      "outputs": [
        {
          "output_type": "stream",
          "text": [
            "[nltk_data] Downloading package punkt to /root/nltk_data...\n",
            "[nltk_data]   Package punkt is already up-to-date!\n",
            "[('Android', '.'), ('is', 'VERB'), ('a', 'DET'), ('mobile', 'ADJ'), ('operating', 'NOUN'), ('system', 'NOUN'), ('developed', 'VERB'), ('by', 'ADP'), ('Google', '.'), ('.', '.')]\n"
          ],
          "name": "stdout"
        }
      ]
    },
    {
      "cell_type": "code",
      "metadata": {
        "colab": {
          "base_uri": "https://localhost:8080/"
        },
        "id": "J41-qxj7Gbrx",
        "outputId": "d07a3e3d-f013-4472-ef50-fa908c3c8809"
      },
      "source": [
        "tagged_seq = viterbi_heuristic_3(words,bag=train_tag_words)\n",
        "print(tagged_seq)"
      ],
      "execution_count": 71,
      "outputs": [
        {
          "output_type": "stream",
          "text": [
            "[('Android', 'NOUN'), ('is', 'VERB'), ('a', 'DET'), ('mobile', 'ADJ'), ('operating', 'NOUN'), ('system', 'NOUN'), ('developed', 'VERB'), ('by', 'ADP'), ('Google', 'NOUN'), ('.', '.')]\n"
          ],
          "name": "stdout"
        }
      ]
    },
    {
      "cell_type": "markdown",
      "metadata": {
        "id": "XcAmCN8MHSpN"
      },
      "source": [
        "\n",
        "\n",
        "1.   'Android' is properly tagged with 'NOUN' in modified Viterbi Algorithm.\n",
        "2. 'Google' is properly tagged with 'NOUN' in modified Viterbi Algorithm.\n"
      ]
    },
    {
      "cell_type": "code",
      "metadata": {
        "colab": {
          "base_uri": "https://localhost:8080/"
        },
        "id": "bgEXQ6ADGx_3",
        "outputId": "eedc0ff4-5604-4126-aeb1-cc2a8f703e61"
      },
      "source": [
        "sentense_test_1 = \"Android has been the best-selling OS worldwide on smartphones since 2011 and on tablets since 2013.\"\n",
        "words = word_tokenize(sentense_test_1)\n",
        "tagged_seq = viterbi_heuristic(words,bag=train_tag_words)\n",
        "print(tagged_seq)"
      ],
      "execution_count": 72,
      "outputs": [
        {
          "output_type": "stream",
          "text": [
            "[('Android', '.'), ('has', 'VERB'), ('been', 'VERB'), ('the', 'DET'), ('best-selling', 'ADJ'), ('OS', '.'), ('worldwide', '.'), ('on', 'ADP'), ('smartphones', '.'), ('since', 'ADP'), ('2011', '.'), ('and', 'CONJ'), ('on', 'ADP'), ('tablets', 'NOUN'), ('since', 'ADP'), ('2013', '.'), ('.', '.')]\n"
          ],
          "name": "stdout"
        }
      ]
    },
    {
      "cell_type": "code",
      "metadata": {
        "colab": {
          "base_uri": "https://localhost:8080/"
        },
        "id": "ijjhfVL7Hkbh",
        "outputId": "5dd3d3c5-8a44-40b3-9908-4faa3537bc61"
      },
      "source": [
        "tagged_seq = viterbi_heuristic_3(words,bag=train_tag_words)\n",
        "print(tagged_seq)"
      ],
      "execution_count": 73,
      "outputs": [
        {
          "output_type": "stream",
          "text": [
            "[('Android', 'NOUN'), ('has', 'VERB'), ('been', 'VERB'), ('the', 'DET'), ('best-selling', 'ADJ'), ('OS', 'NOUN'), ('worldwide', 'NOUN'), ('on', 'ADP'), ('smartphones', 'VERB'), ('since', 'ADP'), ('2011', 'NUM'), ('and', 'CONJ'), ('on', 'ADP'), ('tablets', 'NOUN'), ('since', 'ADP'), ('2013', 'NUM'), ('.', '.')]\n"
          ],
          "name": "stdout"
        }
      ]
    },
    {
      "cell_type": "markdown",
      "metadata": {
        "id": "Qanl0x8tIA2l"
      },
      "source": [
        "1. 'Android' is properly tagged with 'NOUN' in modified Viterbi Algorithm.\n",
        "2. 'OS' is properly tagged with 'NOUN' in modified Viterbi Algorithm.\n",
        "3. 'worldwide' is properly tagged with 'NOUN' in modified Viterbi Algorithm.\n",
        "4. 'smartphones' is properly tagged with 'VERB' in modified Viterbi Algorithm.\n",
        "5. '2011' is properly tagged with 'NUM' in modified Viterbi Algorithm.\n",
        "6. '2013' is properly tagged with 'NUM' in modified Viterbi Algorithm.\n",
        "\n",
        "\n"
      ]
    },
    {
      "cell_type": "code",
      "metadata": {
        "colab": {
          "base_uri": "https://localhost:8080/"
        },
        "id": "D7JbdOAeHlp2",
        "outputId": "f74d6366-6eb5-4a68-c86f-13df7807b712"
      },
      "source": [
        "sentense_test_1 = \"Google and Twitter made a deal in 2015 that gave Google access to Twitter's firehose.\"\n",
        "words = word_tokenize(sentense_test_1)\n",
        "tagged_seq = viterbi_heuristic(words,bag=train_tag_words)\n",
        "print(tagged_seq)"
      ],
      "execution_count": 74,
      "outputs": [
        {
          "output_type": "stream",
          "text": [
            "[('Google', '.'), ('and', 'CONJ'), ('Twitter', '.'), ('made', 'VERB'), ('a', 'DET'), ('deal', 'NOUN'), ('in', 'ADP'), ('2015', '.'), ('that', 'DET'), ('gave', 'VERB'), ('Google', '.'), ('access', 'NOUN'), ('to', 'PRT'), ('Twitter', '.'), (\"'s\", 'VERB'), ('firehose', '.'), ('.', '.')]\n"
          ],
          "name": "stdout"
        }
      ]
    },
    {
      "cell_type": "code",
      "metadata": {
        "colab": {
          "base_uri": "https://localhost:8080/"
        },
        "id": "4l-5j8STIHKS",
        "outputId": "da2d1936-32bf-4bb4-fc0c-01327a3f8500"
      },
      "source": [
        "tagged_seq = viterbi_heuristic_3(words,bag=train_tag_words)\n",
        "print(tagged_seq)"
      ],
      "execution_count": 75,
      "outputs": [
        {
          "output_type": "stream",
          "text": [
            "[('Google', 'NOUN'), ('and', 'CONJ'), ('Twitter', 'NOUN'), ('made', 'VERB'), ('a', 'DET'), ('deal', 'NOUN'), ('in', 'ADP'), ('2015', 'NUM'), ('that', 'ADP'), ('gave', 'VERB'), ('Google', 'NOUN'), ('access', 'NOUN'), ('to', 'PRT'), ('Twitter', 'NOUN'), (\"'s\", 'PRT'), ('firehose', 'NOUN'), ('.', '.')]\n"
          ],
          "name": "stdout"
        }
      ]
    },
    {
      "cell_type": "markdown",
      "metadata": {
        "id": "K_kd6bbyIR_y"
      },
      "source": [
        "1. 'Google' is properly tagged with 'NOUN' in modified Viterbi Algorithm.\n",
        "2. 'Twitter' is properly tagged with 'NOUN' in modified Viterbi Algorithm.\n",
        "3. '2015' is properly tagged with 'NUM' in modified Viterbi Algorithm.\n",
        "4. 'that' is properly tagged with 'ADP' in modified Viterbi Algorithm.\n",
        "5. 'firehose' is properly tagged with 'NOUN' in modified Viterbi Algorithm.\n",
        "\n"
      ]
    },
    {
      "cell_type": "code",
      "metadata": {
        "id": "nBRJLnukILpP"
      },
      "source": [
        ""
      ],
      "execution_count": null,
      "outputs": []
    }
  ]
}